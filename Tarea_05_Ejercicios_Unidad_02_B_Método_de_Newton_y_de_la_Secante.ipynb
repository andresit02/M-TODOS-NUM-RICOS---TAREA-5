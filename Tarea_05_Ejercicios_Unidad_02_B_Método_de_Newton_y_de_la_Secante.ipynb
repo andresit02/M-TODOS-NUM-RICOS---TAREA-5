{
  "nbformat": 4,
  "nbformat_minor": 0,
  "metadata": {
    "colab": {
      "provenance": [],
      "authorship_tag": "ABX9TyMmJdpbMt66cemovSH5G3uw",
      "include_colab_link": true
    },
    "kernelspec": {
      "name": "python3",
      "display_name": "Python 3"
    },
    "language_info": {
      "name": "python"
    }
  },
  "cells": [
    {
      "cell_type": "markdown",
      "metadata": {
        "id": "view-in-github",
        "colab_type": "text"
      },
      "source": [
        "<a href=\"https://colab.research.google.com/github/andresit02/M-TODOS-NUM-RICOS---TAREA-5/blob/main/Tarea_05_Ejercicios_Unidad_02_B_M%C3%A9todo_de_Newton_y_de_la_Secante.ipynb\" target=\"_parent\"><img src=\"https://colab.research.google.com/assets/colab-badge.svg\" alt=\"Open In Colab\"/></a>"
      ]
    },
    {
      "cell_type": "markdown",
      "source": [
        "**ESCUELA POLITÉCNICA NACIONAL**"
      ],
      "metadata": {
        "id": "p_EuRCnUJ0s1"
      }
    },
    {
      "cell_type": "markdown",
      "source": [
        "**MÉTODOS NUMÉRICOS**\n"
      ],
      "metadata": {
        "id": "zljjbUf2LD9t"
      }
    },
    {
      "cell_type": "markdown",
      "source": [
        "**[Tarea 05] Ejercicios Unidad 02 B Método de Newton y de la Secante**\n"
      ],
      "metadata": {
        "id": "-ikc-n1CLNc3"
      }
    },
    {
      "cell_type": "markdown",
      "source": [
        "**Realizado por: Andres Patricio Fernandez Obaco**"
      ],
      "metadata": {
        "id": "tWN3hXijMWWb"
      }
    },
    {
      "cell_type": "markdown",
      "source": [
        "**Ejercicio 1:**\n",
        "\n",
        "Sea 𝑓(𝑥) = −𝑥^3 − cos 𝑥 y 𝑝0 = −1. Use el método de Newton y de la Secante para encontrar 𝑝2. ¿Se podría usar 𝑝0 = 0?  "
      ],
      "metadata": {
        "id": "FSrjV-CNNErZ"
      }
    },
    {
      "cell_type": "code",
      "execution_count": 5,
      "metadata": {
        "colab": {
          "base_uri": "https://localhost:8080/"
        },
        "id": "4wIfUWVXI4Vn",
        "outputId": "59786e6a-02de-41dc-bc6e-d8fd64c0abdc"
      },
      "outputs": [
        {
          "output_type": "stream",
          "name": "stdout",
          "text": [
            "Método de Newton: p2 ≈ -0.8656841631760818\n",
            "Método de la Secante: p2 ≈ -0.5\n",
            "Método de Newton: No se puede usar p0 = 0 porque la derivada es 0\n",
            "Método de la Secante con p0 = 0 y p1 = 0.1: p2 = 0.1\n"
          ]
        }
      ],
      "source": [
        "import math\n",
        "\n",
        "# Definir la función y su derivada\n",
        "def f(x):\n",
        "    return -x**3 - math.cos(x)\n",
        "\n",
        "def df(x):\n",
        "    return -3*x**2 + math.sin(x)\n",
        "\n",
        "# Método de Newton\n",
        "def newton_method(p0, iterations=2):\n",
        "    p = p0\n",
        "    for _ in range(iterations):\n",
        "        if df(p) == 0: # Esto para evitar la división por cero\n",
        "            raise ValueError(f\"Derivada cero en x = {p}. Newton no es aplicable\")\n",
        "        p = p - f(p) / df(p)\n",
        "    return p\n",
        "\n",
        "# Método de la Secante\n",
        "def secant_method(p0, p1, iterations=2):\n",
        "    p_prev, p_curr = p0, p1\n",
        "    for i in range(iterations):\n",
        "        if f(p_curr) - f(p_prev) == 0: # Esto para evitar la división por cero\n",
        "            raise ValueError(f\"Derivada cero entre f(x) valores. Secante no es aplicable\")\n",
        "        p_next = p_curr - f(p_curr) * (p_curr - p_prev) / (f(p_curr) - f(p_prev))\n",
        "    return p_curr\n",
        "\n",
        "# Valores iniciales\n",
        "p0_newton = -1\n",
        "p0_secant = -1\n",
        "p1_secant = -0.5 # Otro punto cercano para el método de la secante\n",
        "\n",
        "# Calcular p2 con ambos métodos\n",
        "try:\n",
        "  # Metodo de Newton\n",
        "  p2_newton = newton_method(p0_newton)\n",
        "  print(f\"Método de Newton: p2 ≈ {p2_newton}\")\n",
        "except ValueError as e:\n",
        "  print(f\"Error en Método de Newton: {e} \")\n",
        "try:\n",
        "  # Metodo de la Secante\n",
        "  p2_secante = secant_method(p0_secant, p1_secant)\n",
        "  print(f\"Método de la Secante: p2 ≈ {p2_secante}\")\n",
        "except ValueError as e:\n",
        "  print(f\"Error en Método de la Secante: {e} \")\n",
        "# Verificar si po = 0 es válido\n",
        "try:\n",
        "  if df(0) == 0:\n",
        "      print(f\"Método de Newton: No se puede usar p0 = 0 porque la derivada es 0\")\n",
        "  else:\n",
        "      p2_newton_zero = newton_method(0)\n",
        "      print(f\"Método de Newton con p0 = 0: p2 = {p2_newton_zero}\")\n",
        "except ValueError as e:\n",
        "  print(f\"Error en Método de Newton con po = 0: {e} \")\n",
        "try:\n",
        "      p2_secant_zero = secant_method(0, 0.1)\n",
        "      print(f\"Método de la Secante con p0 = 0 y p1 = 0.1: p2 = {p2_secant_zero}\")\n",
        "except ValueError as e:\n",
        "  print(f\"Error en Método de la Secante con po = 0: {e} \")"
      ]
    },
    {
      "cell_type": "markdown",
      "source": [
        "**Ejercicio 2:**\n",
        "\n",
        "Encuentre soluciones precisas dentro de 10^−4 para los siguientes problemas:\n",
        "- a. $𝑥^3 − 2𝑥^2 − 5 = 0, [1,4]$\n",
        "- b. $𝑥^\n",
        "3 + x^\n",
        "2 − 1 = 0, [−3,2 ]$\n",
        "- c. $𝑥 − cos 𝑥 = 0, [0,\\pi/2]\n",
        "$\n",
        "- d. $𝑥 − 0.8 − 0.2 sen 𝑥 = 0, [0,\\pi/$2]\n"
      ],
      "metadata": {
        "id": "l2itO6VxZ-53"
      }
    },
    {
      "cell_type": "code",
      "source": [
        "import numpy as np\n",
        "\n",
        "# Definiciones de funciones\n",
        "def f_a(x):\n",
        "    return x**3 - 2*x**2 - 5\n",
        "\n",
        "def f_b(x):\n",
        "    return x**3 + 3*x**2 - 1\n",
        "\n",
        "def f_c(x):\n",
        "    return x - np.cos(x)\n",
        "\n",
        "def f_d(x):\n",
        "    return x - 0.8 - 0.2 * np.sin(x)\n",
        "\n",
        "# Método de la bisección\n",
        "def bisection_method(f, a, b, tol=1e-4):\n",
        "    if f(a) * f(b) >= 0:\n",
        "        raise ValueError(\"f(a) y f(b) deben tener signos opuestos\")\n",
        "    while (b - a) / 2 > tol:\n",
        "        c = (a + b) / 2\n",
        "        if f(c) == 0:\n",
        "            return c\n",
        "        elif f(a) * f(c) < 0:\n",
        "            b = c\n",
        "        else:\n",
        "            a = c\n",
        "    return (a + b) / 2\n",
        "\n",
        "# Intervalos dados\n",
        "interval_a = [1, 4]\n",
        "interval_b = [-3, -2]\n",
        "interval_c = [0, np.pi/2]\n",
        "interval_d = [0, np.pi/2]\n",
        "\n",
        "# Tolerancia\n",
        "tolerance = 1e-4\n",
        "\n",
        "# Encontrar soluciones\n",
        "solution_a = bisection_method(f_a, interval_a[0], interval_a[1], tolerance)\n",
        "solution_b = bisection_method(f_b, interval_b[0], interval_b[1], tolerance)\n",
        "solution_c = bisection_method(f_c, interval_c[0], interval_c[1], tolerance)\n",
        "solution_d = bisection_method(f_d, interval_d[0], interval_d[1], tolerance)\n",
        "\n",
        "print(f\"Solución para x^3 - 2x^2 - 5 = 0 en [1, 4]: {solution_a:.6f}\")\n",
        "print(f\"Solución para x^3 + 3x^2 - 1 = 0 en [-3, -2]: {solution_b:.6f}\")\n",
        "print(f\"Solución para x - cos(x) = 0 en [0, π/2]: {solution_c:.6f}\")\n",
        "print(f\"Solución para x - 0.8 - 0.2 sin(x) = 0 en [0, π/2]: {solution_d:.6f}\")"
      ],
      "metadata": {
        "colab": {
          "base_uri": "https://localhost:8080/"
        },
        "id": "NXNxFoxfbNUJ",
        "outputId": "9d1f8fc3-46e5-4784-b0cf-028a36199396"
      },
      "execution_count": 6,
      "outputs": [
        {
          "output_type": "stream",
          "name": "stdout",
          "text": [
            "Solución para x^3 - 2x^2 - 5 = 0 en [1, 4]: 2.690704\n",
            "Solución para x^3 + 3x^2 - 1 = 0 en [-3, -2]: -2.879333\n",
            "Solución para x - cos(x) = 0 en [0, π/2]: 0.739091\n",
            "Solución para x - 0.8 - 0.2 sin(x) = 0 en [0, π/2]: 0.964395\n"
          ]
        }
      ]
    }
  ]
}