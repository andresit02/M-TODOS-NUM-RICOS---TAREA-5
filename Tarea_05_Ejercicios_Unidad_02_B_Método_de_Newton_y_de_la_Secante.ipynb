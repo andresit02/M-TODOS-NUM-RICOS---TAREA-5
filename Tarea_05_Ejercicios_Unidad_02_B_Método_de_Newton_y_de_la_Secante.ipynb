{
  "nbformat": 4,
  "nbformat_minor": 0,
  "metadata": {
    "colab": {
      "provenance": [],
      "authorship_tag": "ABX9TyPM6PoNyUFY6eXsajpGId1X",
      "include_colab_link": true
    },
    "kernelspec": {
      "name": "python3",
      "display_name": "Python 3"
    },
    "language_info": {
      "name": "python"
    }
  },
  "cells": [
    {
      "cell_type": "markdown",
      "metadata": {
        "id": "view-in-github",
        "colab_type": "text"
      },
      "source": [
        "<a href=\"https://colab.research.google.com/github/andresit02/M-TODOS-NUM-RICOS---TAREA-5/blob/main/Tarea_05_Ejercicios_Unidad_02_B_M%C3%A9todo_de_Newton_y_de_la_Secante.ipynb\" target=\"_parent\"><img src=\"https://colab.research.google.com/assets/colab-badge.svg\" alt=\"Open In Colab\"/></a>"
      ]
    },
    {
      "cell_type": "markdown",
      "source": [
        "**ESCUELA POLITÉCNICA NACIONAL**"
      ],
      "metadata": {
        "id": "p_EuRCnUJ0s1"
      }
    },
    {
      "cell_type": "markdown",
      "source": [
        "**MÉTODOS NUMÉRICOS**\n"
      ],
      "metadata": {
        "id": "zljjbUf2LD9t"
      }
    },
    {
      "cell_type": "markdown",
      "source": [
        "**[Tarea 05] Ejercicios Unidad 02 B Método de Newton y de la Secante**\n"
      ],
      "metadata": {
        "id": "-ikc-n1CLNc3"
      }
    },
    {
      "cell_type": "markdown",
      "source": [
        "**Realizado por: Andres Patricio Fernandez Obaco**"
      ],
      "metadata": {
        "id": "tWN3hXijMWWb"
      }
    },
    {
      "cell_type": "markdown",
      "source": [
        "**Ejercicio 1:**\n",
        "\n",
        "Sea 𝑓(𝑥) = −𝑥^3 − cos 𝑥 y 𝑝0 = −1. Use el método de Newton y de la Secante para encontrar 𝑝2. ¿Se podría usar 𝑝0 = 0?  "
      ],
      "metadata": {
        "id": "FSrjV-CNNErZ"
      }
    },
    {
      "cell_type": "code",
      "execution_count": 5,
      "metadata": {
        "colab": {
          "base_uri": "https://localhost:8080/"
        },
        "id": "4wIfUWVXI4Vn",
        "outputId": "59786e6a-02de-41dc-bc6e-d8fd64c0abdc"
      },
      "outputs": [
        {
          "output_type": "stream",
          "name": "stdout",
          "text": [
            "Método de Newton: p2 ≈ -0.8656841631760818\n",
            "Método de la Secante: p2 ≈ -0.5\n",
            "Método de Newton: No se puede usar p0 = 0 porque la derivada es 0\n",
            "Método de la Secante con p0 = 0 y p1 = 0.1: p2 = 0.1\n"
          ]
        }
      ],
      "source": [
        "import math\n",
        "\n",
        "# Definir la función y su derivada\n",
        "def f(x):\n",
        "    return -x**3 - math.cos(x)\n",
        "\n",
        "def df(x):\n",
        "    return -3*x**2 + math.sin(x)\n",
        "\n",
        "# Método de Newton\n",
        "def newton_method(p0, iterations=2):\n",
        "    p = p0\n",
        "    for _ in range(iterations):\n",
        "        if df(p) == 0: # Esto para evitar la división por cero\n",
        "            raise ValueError(f\"Derivada cero en x = {p}. Newton no es aplicable\")\n",
        "        p = p - f(p) / df(p)\n",
        "    return p\n",
        "\n",
        "# Método de la Secante\n",
        "def secant_method(p0, p1, iterations=2):\n",
        "    p_prev, p_curr = p0, p1\n",
        "    for i in range(iterations):\n",
        "        if f(p_curr) - f(p_prev) == 0: # Esto para evitar la división por cero\n",
        "            raise ValueError(f\"Derivada cero entre f(x) valores. Secante no es aplicable\")\n",
        "        p_next = p_curr - f(p_curr) * (p_curr - p_prev) / (f(p_curr) - f(p_prev))\n",
        "    return p_curr\n",
        "\n",
        "# Valores iniciales\n",
        "p0_newton = -1\n",
        "p0_secant = -1\n",
        "p1_secant = -0.5 # Otro punto cercano para el método de la secante\n",
        "\n",
        "# Calcular p2 con ambos métodos\n",
        "try:\n",
        "  # Metodo de Newton\n",
        "  p2_newton = newton_method(p0_newton)\n",
        "  print(f\"Método de Newton: p2 ≈ {p2_newton}\")\n",
        "except ValueError as e:\n",
        "  print(f\"Error en Método de Newton: {e} \")\n",
        "try:\n",
        "  # Metodo de la Secante\n",
        "  p2_secante = secant_method(p0_secant, p1_secant)\n",
        "  print(f\"Método de la Secante: p2 ≈ {p2_secante}\")\n",
        "except ValueError as e:\n",
        "  print(f\"Error en Método de la Secante: {e} \")\n",
        "# Verificar si po = 0 es válido\n",
        "try:\n",
        "  if df(0) == 0:\n",
        "      print(f\"Método de Newton: No se puede usar p0 = 0 porque la derivada es 0\")\n",
        "  else:\n",
        "      p2_newton_zero = newton_method(0)\n",
        "      print(f\"Método de Newton con p0 = 0: p2 = {p2_newton_zero}\")\n",
        "except ValueError as e:\n",
        "  print(f\"Error en Método de Newton con po = 0: {e} \")\n",
        "try:\n",
        "      p2_secant_zero = secant_method(0, 0.1)\n",
        "      print(f\"Método de la Secante con p0 = 0 y p1 = 0.1: p2 = {p2_secant_zero}\")\n",
        "except ValueError as e:\n",
        "  print(f\"Error en Método de la Secante con po = 0: {e} \")"
      ]
    },
    {
      "cell_type": "markdown",
      "source": [
        "**Ejercicio 2:**\n",
        "\n",
        "Encuentre soluciones precisas dentro de 10^−4 para los siguientes problemas:\n",
        "- a. $𝑥^3 − 2𝑥^2 − 5 = 0, [1,4]$\n",
        "- b. $𝑥^\n",
        "3 + x^\n",
        "2 − 1 = 0, [−3,2 ]$\n",
        "- c. $𝑥 − cos 𝑥 = 0, [0,\\pi/2]\n",
        "$\n",
        "- d. $𝑥 − 0.8 − 0.2 sen 𝑥 = 0, [0,\\pi/$2]\n"
      ],
      "metadata": {
        "id": "l2itO6VxZ-53"
      }
    },
    {
      "cell_type": "code",
      "source": [
        "import numpy as np\n",
        "\n",
        "# Definiciones de funciones\n",
        "def f_a(x):\n",
        "    return x**3 - 2*x**2 - 5\n",
        "\n",
        "def f_b(x):\n",
        "    return x**3 + 3*x**2 - 1\n",
        "\n",
        "def f_c(x):\n",
        "    return x - np.cos(x)\n",
        "\n",
        "def f_d(x):\n",
        "    return x - 0.8 - 0.2 * np.sin(x)\n",
        "\n",
        "# Método de la bisección\n",
        "def bisection_method(f, a, b, tol=1e-4):\n",
        "    if f(a) * f(b) >= 0:\n",
        "        raise ValueError(\"f(a) y f(b) deben tener signos opuestos\")\n",
        "    while (b - a) / 2 > tol:\n",
        "        c = (a + b) / 2\n",
        "        if f(c) == 0:\n",
        "            return c\n",
        "        elif f(a) * f(c) < 0:\n",
        "            b = c\n",
        "        else:\n",
        "            a = c\n",
        "    return (a + b) / 2\n",
        "\n",
        "# Intervalos dados\n",
        "interval_a = [1, 4]\n",
        "interval_b = [-3, -2]\n",
        "interval_c = [0, np.pi/2]\n",
        "interval_d = [0, np.pi/2]\n",
        "\n",
        "# Tolerancia\n",
        "tolerance = 1e-4\n",
        "\n",
        "# Encontrar soluciones\n",
        "solution_a = bisection_method(f_a, interval_a[0], interval_a[1], tolerance)\n",
        "solution_b = bisection_method(f_b, interval_b[0], interval_b[1], tolerance)\n",
        "solution_c = bisection_method(f_c, interval_c[0], interval_c[1], tolerance)\n",
        "solution_d = bisection_method(f_d, interval_d[0], interval_d[1], tolerance)\n",
        "\n",
        "print(f\"Solución para x^3 - 2x^2 - 5 = 0 en [1, 4]: {solution_a:.6f}\")\n",
        "print(f\"Solución para x^3 + 3x^2 - 1 = 0 en [-3, -2]: {solution_b:.6f}\")\n",
        "print(f\"Solución para x - cos(x) = 0 en [0, π/2]: {solution_c:.6f}\")\n",
        "print(f\"Solución para x - 0.8 - 0.2 sin(x) = 0 en [0, π/2]: {solution_d:.6f}\")"
      ],
      "metadata": {
        "colab": {
          "base_uri": "https://localhost:8080/"
        },
        "id": "NXNxFoxfbNUJ",
        "outputId": "9d1f8fc3-46e5-4784-b0cf-028a36199396"
      },
      "execution_count": 6,
      "outputs": [
        {
          "output_type": "stream",
          "name": "stdout",
          "text": [
            "Solución para x^3 - 2x^2 - 5 = 0 en [1, 4]: 2.690704\n",
            "Solución para x^3 + 3x^2 - 1 = 0 en [-3, -2]: -2.879333\n",
            "Solución para x - cos(x) = 0 en [0, π/2]: 0.739091\n",
            "Solución para x - 0.8 - 0.2 sin(x) = 0 en [0, π/2]: 0.964395\n"
          ]
        }
      ]
    },
    {
      "cell_type": "markdown",
      "source": [
        "**Ejercicio 3:**\n",
        "\n",
        "Use los 2 métodos en esta sección para encontrar las soluciones dentro de 10^−5 para los siguientes problemas.\n",
        "- $a. 3𝑥 − e^\n",
        "𝑥 = $ 0 para 1 ≤ 𝑥 ≤\n",
        "  2\n",
        "- $b. 2𝑥 + 3 cos 𝑥 − e^\n",
        "𝑥 = $ 0 para 1 ≤ 𝑥 ≤\n",
        "2\n"
      ],
      "metadata": {
        "id": "jJsqCE6Rbw2s"
      }
    },
    {
      "cell_type": "markdown",
      "source": [
        "**LITERAL A**"
      ],
      "metadata": {
        "id": "gT_ieVgmdxic"
      }
    },
    {
      "cell_type": "code",
      "source": [
        "import math\n",
        "\n",
        "# Función y derivada\n",
        "def f_a(x):\n",
        "    return 3*x - math.exp(x)\n",
        "\n",
        "def df_a(x):\n",
        "    return 3 - math.exp(x)\n",
        "\n",
        "# Método de Newton\n",
        "def newton_method_a(p0, tol=1e-5, max_iter=100):\n",
        "    for _ in range(max_iter):\n",
        "        if df_a(p0) == 0:\n",
        "            raise ValueError(\"Derivada cero. Método de Newton no es aplicable.\")\n",
        "        p1 = p0 - f_a(p0) / df_a(p0)\n",
        "        if abs(p1 - p0) < tol:\n",
        "            return p1\n",
        "        p0 = p1\n",
        "    raise ValueError(\"El método de Newton no convergió.\")\n",
        "\n",
        "# Calcular raíz usando p0 inicial dentro [1, 2]\n",
        "root_newton_a = newton_method_a(1.5)\n",
        "print(f\"Raíz para literal a con método de Newton: {root_newton_a}\")\n",
        "\n",
        "# Método de la Secante\n",
        "def secant_method_a(p0, p1, tol=1e-5, max_iter=100):\n",
        "    for _ in range(max_iter):\n",
        "        if f_a(p1) - f_a(p0) == 0:\n",
        "            raise ValueError(\"Diferencia cero. Método de la Secante no es aplicable.\")\n",
        "        p2 = p1 - f_a(p1) * (p1 - p0) / (f_a(p1) - f_a(p0))\n",
        "        if abs(p2 - p1) < tol:\n",
        "            return p2\n",
        "        p0, p1 = p1, p2\n",
        "    raise ValueError(\"El método de la Secante no convergió.\")\n",
        "\n",
        "# Calcular raíz usando puntos iniciales dentro [1, 2]\n",
        "root_secant_a = secant_method_a(1, 2)\n",
        "print(f\"Raíz para literal a con método de la Secante: {root_secant_a}\")"
      ],
      "metadata": {
        "colab": {
          "base_uri": "https://localhost:8080/"
        },
        "id": "fg8OWrk_cTIi",
        "outputId": "f647a2b8-ea02-4638-9e04-32089a40d01a"
      },
      "execution_count": 7,
      "outputs": [
        {
          "output_type": "stream",
          "name": "stdout",
          "text": [
            "Raíz para literal a con método de Newton: 1.5121345516578504\n",
            "Raíz para literal a con método de la Secante: 1.5121345517620621\n"
          ]
        }
      ]
    },
    {
      "cell_type": "markdown",
      "source": [
        "**LITERAL B**"
      ],
      "metadata": {
        "id": "-IDl_5Ryd17a"
      }
    },
    {
      "cell_type": "code",
      "source": [
        "import math\n",
        "\n",
        "def f_b(x):\n",
        "    return 2*x + 3*math.cos(x) - math.exp(x)\n",
        "\n",
        "def df_b(x):\n",
        "    return 2 - 3*math.sin(x) - math.exp(x)\n",
        "\n",
        "def newton_method_b(p0, tol=1e-5, max_iter=100):\n",
        "    for _ in range(max_iter):\n",
        "        if df_b(p0) == 0:\n",
        "            raise ValueError(\"Derivada cero. Método de Newton no es aplicable.\")\n",
        "        p1 = p0 - f_b(p0) / df_b(p0)\n",
        "        if abs(p1 - p0) < tol:\n",
        "            return p1\n",
        "        p0 = p1\n",
        "    raise ValueError(\"El método de Newton no convergió.\")\n",
        "\n",
        "root_newton_b = newton_method_b(1.5)\n",
        "print(f\"Raíz para literal b con método de Newton: {root_newton_b}\")\n",
        "\n",
        "def secant_method_b(p0, p1, tol=1e-5, max_iter=100):\n",
        "    for _ in range(max_iter):\n",
        "        if f_b(p1) - f_b(p0) == 0:\n",
        "            raise ValueError(\"Diferencia cero. Método de la Secante no es aplicable.\")\n",
        "        p2 = p1 - f_b(p1) * (p1 - p0) / (f_b(p1) - f_b(p0))\n",
        "        if abs(p2 - p1) < tol:\n",
        "            return p2\n",
        "        p0, p1 = p1, p2\n",
        "    raise ValueError(\"El método de la Secante no convergió.\")\n",
        "\n",
        "root_secant_b = secant_method_b(1, 2)\n",
        "print(f\"Raíz para literal b con método de la Secante: {root_secant_b}\")"
      ],
      "metadata": {
        "colab": {
          "base_uri": "https://localhost:8080/"
        },
        "id": "fY-sog08dXDB",
        "outputId": "62c470cf-3857-43a7-c7d4-c374b9d463c3"
      },
      "execution_count": 8,
      "outputs": [
        {
          "output_type": "stream",
          "name": "stdout",
          "text": [
            "Raíz para literal b con método de Newton: 1.2397146979752212\n",
            "Raíz para literal b con método de la Secante: 1.2397146979752531\n"
          ]
        }
      ]
    },
    {
      "cell_type": "markdown",
      "source": [
        "**EJERCICIO 4**\n",
        "\n",
        "El polinomio de cuarto grado\n",
        "\n",
        "$𝑓(𝑥) = 230x^4 + 18x^3 + 9x^2 − 221𝑥 − 9 $\n",
        "\n",
        "tiene dos ceros reales, uno en [−1,0] y el otro en [0,1]. Intente aproximar estos ceros dentro de 10^−6\n",
        "con\n",
        "\n",
        "a. El método de la secante (use los extremos como las estimaciones iniciales)\n",
        "\n",
        "b. El método de Newton (use el punto medio como estimación inicial)nter>"
      ],
      "metadata": {
        "id": "A85ZFuw-eYJy"
      }
    },
    {
      "cell_type": "code",
      "source": [
        "import numpy as np\n",
        "\n",
        "# Definición de la función y su derivada\n",
        "def f(x):\n",
        "    return 230*x**4 + 18*x**3 + 9*x**2 - 221*x - 9\n",
        "\n",
        "def f_prime(x):\n",
        "    return 920*x**3 + 54*x**2 + 18*x - 221\n",
        "\n",
        "# Método de la secante\n",
        "def secant_method(f, x0, x1, tol=1e-6, max_iter=1000):\n",
        "    for _ in range(max_iter):\n",
        "        f_x0 = f(x0)\n",
        "        f_x1 = f(x1)\n",
        "        if abs(f_x1 - f_x0) < tol:\n",
        "            raise ValueError(\"Diferencia de f(x) demasiado pequeña, el método puede no converger\")\n",
        "\n",
        "        x2 = x1 - f_x1 * (x1 - x0) / (f_x1 - f_x0)\n",
        "\n",
        "        if abs(x2 - x1) < tol:\n",
        "            return x2\n",
        "\n",
        "        x0, x1 = x1, x2\n",
        "\n",
        "    raise ValueError(\"El método de la secante no convergió\")\n",
        "\n",
        "# Método de Newton-Raphson\n",
        "def newton_method(f, f_prime, x0, tol=1e-6, max_iter=1000):\n",
        "    x = x0\n",
        "    for _ in range(max_iter):\n",
        "        f_x = f(x)\n",
        "        f_prime_x = f_prime(x)\n",
        "\n",
        "        if abs(f_prime_x) < tol:\n",
        "            raise ValueError(\"Derivada demasiado pequeña, el método puede no converger\")\n",
        "\n",
        "        x_next = x - f_x / f_prime_x\n",
        "\n",
        "        if abs(x_next - x) < tol:\n",
        "            return x_next\n",
        "\n",
        "        x = x_next\n",
        "\n",
        "    raise ValueError(\"El método de Newton no convergió\")\n",
        "\n",
        "# Intervalos dados\n",
        "interval_1 = [-1, 0]\n",
        "interval_2 = [0, 1]\n",
        "\n",
        "# Tolerancia\n",
        "tolerance = 1e-6\n",
        "\n",
        "# Soluciones para el intervalo [-1, 0]\n",
        "x0_1, x1_1 = interval_1\n",
        "secant_solution_1 = secant_method(f, x0_1, x1_1, tolerance)\n",
        "newton_solution_1 = newton_method(f, f_prime, (x0_1 + x1_1) / 2, tolerance)\n",
        "\n",
        "# Soluciones para el intervalo [0, 1]\n",
        "x0_2, x1_2 = interval_2\n",
        "secant_solution_2 = secant_method(f, x0_2, x1_2, tolerance)\n",
        "newton_solution_2 = newton_method(f, f_prime, (x0_2 + x1_2) / 2, tolerance)\n",
        "\n",
        "print(f\"Solución con el método de la secante para [-1, 0]: {secant_solution_1:.7f}\")\n",
        "print(f\"Solución con el método de Newton-Raphson para [-1, 0]: {newton_solution_1:.7f}\")\n",
        "print(f\"Solución con el método de la secante para [0, 1]: {secant_solution_2:.7f}\")\n",
        "print(f\"Solución con el método de Newton-Raphson para [0, 1]: {newton_solution_2:.7f}\")"
      ],
      "metadata": {
        "colab": {
          "base_uri": "https://localhost:8080/"
        },
        "id": "nSZyYkkMexnl",
        "outputId": "336a1f78-d53c-4a8a-a47b-e06a0c0cdcb0"
      },
      "execution_count": 9,
      "outputs": [
        {
          "output_type": "stream",
          "name": "stdout",
          "text": [
            "Solución con el método de la secante para [-1, 0]: -0.0406593\n",
            "Solución con el método de Newton-Raphson para [-1, 0]: -0.0406593\n",
            "Solución con el método de la secante para [0, 1]: -0.0406593\n",
            "Solución con el método de Newton-Raphson para [0, 1]: -0.0406593\n"
          ]
        }
      ]
    },
    {
      "cell_type": "markdown",
      "source": [
        "**EJERCICIO 5**\n",
        "\n",
        "La función 𝑓(𝑥) = tan 𝜋 𝑥 − 6 tiene cero en (1⁄𝜋) arcotangente 6 ≈ 0.447431543. Sea 𝑝0 = 0 y 𝑝1 = 0.48\n",
        "y use 10 iteraciones en cada uno de los siguientes métodos para aproximar esta raíz. ¿Cuál método es más\n",
        "eficaz y por qué?\n",
        "- a. método de bisección\n",
        "- b. método de Newton\n",
        "- c. método de la secante"
      ],
      "metadata": {
        "id": "9zZ5fJjtfPMq"
      }
    },
    {
      "cell_type": "code",
      "source": [
        "import numpy as np\n",
        "\n",
        "# Definición de la función y su derivada\n",
        "def f(x):\n",
        "    return np.tan(np.pi * x) - 6\n",
        "\n",
        "def f_prime(x):\n",
        "    return np.pi * (1 / np.cos(np.pi * x))**2\n",
        "\n",
        "# Método de la bisección\n",
        "def bisection_method(f, a, b, tol=1e-6, max_iter=10):\n",
        "    if f(a) * f(b) >= 0:\n",
        "        raise ValueError(\"f(a) y f(b) deben tener signos opuestos\")\n",
        "    for _ in range(max_iter):\n",
        "        c = (a + b) / 2\n",
        "        if f(c) == 0 or (b - a) / 2 < tol:\n",
        "            return c\n",
        "        if f(a) * f(c) < 0:\n",
        "            b = c\n",
        "        else:\n",
        "            a = c\n",
        "    return (a + b) / 2\n",
        "\n",
        "# Método de Newton-Raphson\n",
        "def newton_method(f, f_prime, p0, tol=1e-6, max_iter=10):\n",
        "    p = p0\n",
        "    for _ in range(max_iter):\n",
        "        p_next = p - f(p) / f_prime(p)\n",
        "        if abs(p_next - p) < tol:\n",
        "            return p_next\n",
        "        p = p_next\n",
        "    return p\n",
        "\n",
        "# Método de la secante\n",
        "def secant_method(f, x0, x1, tol=1e-6, max_iter=10):\n",
        "    for _ in range(max_iter):\n",
        "        f_x0 = f(x0)\n",
        "        f_x1 = f(x1)\n",
        "        if abs(f_x1 - f_x0) < tol:\n",
        "            raise ValueError(\"Diferencia de f(x) demasiado pequeña, el método puede no converger\")\n",
        "\n",
        "        x2 = x1 - f_x1 * (x1 - x0) / (f_x1 - f_x0)\n",
        "\n",
        "        if abs(x2 - x1) < tol:\n",
        "            return x2\n",
        "\n",
        "        x0, x1 = x1, x2\n",
        "\n",
        "    return x2\n",
        "\n",
        "# Intervalo inicial para la bisección\n",
        "a, b = 0, 0.48\n",
        "# Punto inicial para Newton\n",
        "p0_newton = 0.48\n",
        "# Puntos iniciales para la secante\n",
        "p0_secant = 0\n",
        "p1_secant = 0.48\n",
        "\n",
        "# Encontrar soluciones\n",
        "solution_bisection = bisection_method(f, a, b)\n",
        "solution_newton = newton_method(f, f_prime, p0_newton)\n",
        "solution_secant = secant_method(f, p0_secant, p1_secant)\n",
        "\n",
        "print(f\"Solución con el método de la bisección: {solution_bisection:.7f}\")\n",
        "print(f\"Solución con el método de Newton-Raphson: {solution_newton:.7f}\")\n",
        "print(f\"Solución con el método de la secante: {solution_secant:.7f}\")"
      ],
      "metadata": {
        "colab": {
          "base_uri": "https://localhost:8080/"
        },
        "id": "UxBrZEZTfbjj",
        "outputId": "c9ab75c4-34a1-4eb2-c06a-d08aabc52ee4"
      },
      "execution_count": 10,
      "outputs": [
        {
          "output_type": "stream",
          "name": "stdout",
          "text": [
            "Solución con el método de la bisección: 0.4474219\n",
            "Solución con el método de Newton-Raphson: 0.4474315\n",
            "Solución con el método de la secante: -2989.9400375\n"
          ]
        }
      ]
    },
    {
      "cell_type": "markdown",
      "source": [
        "**CONCLUSIÓN**\n",
        "\n",
        "El análisis de los resultados muestra una discrepancia significativa en la aproximación obtenida con el método de la secante. El método de Newton-Raphson converge rápidamente a la solución correcta (aproximadamente 0.4474315), mientras que el método de bisección, aunque más lento, proporciona una aproximación aceptable (aproximadamente 0.4474219). El resultado erróneo del método de la secante (-2989.9400375) indica un problema en la implementación o en la elección de los puntos iniciales.\n",
        "\n",
        "En conclusión, el método de Newton-Raphson se muestra como el más eficaz en este caso específico debido a su rápida convergencia."
      ],
      "metadata": {
        "id": "5NA_lAX-gH_x"
      }
    },
    {
      "cell_type": "markdown",
      "source": [
        "**EJERCICIO 6**\n",
        "\n",
        "La función descrita por $f(𝑥) = ln(𝑥^2 + 1) −$ e^0.4𝑥 $cos 𝜋x$ tiene un número infinito de ceros.\n",
        "- a. Determine, dentro de 10^−6 , el único cero negativo.\n",
        "- b. Determine, dentro de 10^−6, los cuatro ceros positivos más pequeños.\n",
        "- c. Determine una aproximación inicial razonable para encontrar el enésimo cero positivo más pequeño de 𝑓. [Sugerencia: Dibuje una gráfica aproximada de 𝑓.]\n",
        "- d. Use la parte c) para determinar, dentro de 10^−6, el vigesimoquinto cero positivo más pequeño de 𝑓."
      ],
      "metadata": {
        "id": "gzAuCIEbgZSQ"
      }
    },
    {
      "cell_type": "code",
      "source": [
        "import numpy as np\n",
        "import matplotlib.pyplot as plt\n",
        "\n",
        "def f(x):\n",
        "    return np.log(x**2 + 1) - np.exp(0.4 * x) * np.cos(np.pi * x)\n",
        "\n",
        "def f_prime(x):\n",
        "    return (2 * x / (x**2 + 1)) - (0.4 * np.exp(0.4 * x) * np.cos(np.pi * x) - np.pi * np.exp(0.4 * x) * np.sin(np.pi * x))\n",
        "\n",
        "# Método de la Bisección\n",
        "def bisection_method(f, a, b, tol=1e-6, max_iter=1000):\n",
        "    if f(a) * f(b) >= 0:\n",
        "        raise ValueError(\"f(a) y f(b) deben tener signos opuestos\")\n",
        "    for _ in range(max_iter):\n",
        "        c = (a + b) / 2\n",
        "        if f(c) == 0 or (b - a) / 2 < tol:\n",
        "            return c\n",
        "        if f(a) * f(c) < 0:\n",
        "            b = c\n",
        "        else:\n",
        "            a = c\n",
        "    return (a + b) / 2\n",
        "\n",
        "# Método de Newton-Raphson\n",
        "def newton_method(f, f_prime, p0, tol=1e-6, max_iter=1000):\n",
        "    p = p0\n",
        "    for _ in range(max_iter):\n",
        "        p_next = p - f(p) / f_prime(p)\n",
        "        if abs(p_next - p) < tol:\n",
        "            return p_next\n",
        "        p = p_next\n",
        "    return p\n",
        "\n",
        "# Graficar la función para identificar el intervalo adecuado\n",
        "x = np.linspace(-2, 0, 400)\n",
        "y = f(x)\n",
        "\n",
        "plt.plot(x, y)\n",
        "plt.axhline(0, color='gray', linestyle='--')\n",
        "plt.title('Gráfica de f(x)')\n",
        "plt.xlabel('x')\n",
        "plt.ylabel('f(x)')\n",
        "plt.grid(True)\n",
        "plt.show()"
      ],
      "metadata": {
        "colab": {
          "base_uri": "https://localhost:8080/",
          "height": 472
        },
        "id": "efkGi-OigMNO",
        "outputId": "8da78c5c-5b06-497f-9d1a-3f5d211da99b"
      },
      "execution_count": 11,
      "outputs": [
        {
          "output_type": "display_data",
          "data": {
            "text/plain": [
              "<Figure size 640x480 with 1 Axes>"
            ],
            "image/png": "[encoded data removed]"
          },
          "metadata": {}
        }
      ]
    },
    {
      "cell_type": "code",
      "source": [
        "# Aproximación inicial razonable para el enésimo cero positivo\n",
        "def nth_zero_approx(n):\n",
        "    return n * (1 / np.pi)\n",
        "\n",
        "# Aproximación inicial para el vigesimoquinto cero positivo\n",
        "approx_25th_zero = nth_zero_approx(25)\n",
        "\n",
        "# Encontrar la solución usando Newton-Raphson\n",
        "solution_25th_zero = newton_method(f, f_prime, approx_25th_zero)\n",
        "\n",
        "print(f\"Para el vigesimoquinto cero positivo usando Newton-Raphson: {solution_25th_zero:.7f}\")"
      ],
      "metadata": {
        "colab": {
          "base_uri": "https://localhost:8080/"
        },
        "id": "pkF-ZnKwhWHq",
        "outputId": "27b1dfb9-533d-4703-d1f1-af7df089a9a8"
      },
      "execution_count": 13,
      "outputs": [
        {
          "output_type": "stream",
          "name": "stdout",
          "text": [
            "Para el vigesimoquinto cero positivo usando Newton-Raphson: 5.6199353\n"
          ]
        }
      ]
    },
    {
      "cell_type": "markdown",
      "source": [
        "**EJERCICIO 7**\n",
        "\n",
        "La función $𝑓(𝑥) =$ 𝑥^1/3 tiene raíz en 𝑥 = 0. Usando el punto de inicio de 𝑥 = 1 y 𝑝0 = 5, 𝑝1 = 0.5 para el método de secante, compare los resultados de los métodos de la secante y de Newton."
      ],
      "metadata": {
        "id": "1PrlTnPXhibh"
      }
    },
    {
      "cell_type": "code",
      "source": [
        "def f1(x):\n",
        "    return x**(1/3)\n",
        "\n",
        "def f_prime1(x):\n",
        "    return (1/3) * x**(-2/3)\n",
        "\n",
        "def newton_method7(f1, f_prime1, p0, tol=1e-6, max_iter=1000):\n",
        "    p = p0\n",
        "    for _ in range(max_iter):\n",
        "        f_p = f1(p)\n",
        "        f_prime_p = f_prime1(p)\n",
        "\n",
        "        if abs(f_prime_p) < tol:\n",
        "            raise ValueError(\"Derivada demasiado pequeña, el método puede no converger\")\n",
        "\n",
        "        p_next = p - f_p / f_prime_p\n",
        "        if abs(p_next - p) < tol:\n",
        "            return p_next\n",
        "        p = p_next\n",
        "    return p\n",
        "\n",
        "def secant_method7(f1, x0, x1, tol=1e-6, max_iter=1000):\n",
        "    for _ in range(max_iter):\n",
        "        f_x0 = f1(x0)\n",
        "        f_x1 = f1(x1)\n",
        "        if abs(f_x1 - f_x0) < tol:\n",
        "            raise ValueError(\"Diferencia de f(x) demasiado pequeña, el método puede no converger\")\n",
        "\n",
        "        x2 = x1 - f_x1 * (x1 - x0) / (f_x1 - f_x0)\n",
        "\n",
        "        if abs(x2 - x1) < tol:\n",
        "            return x2\n",
        "\n",
        "        x0, x1 = x1, x2\n",
        "\n",
        "    return x2\n",
        "\n",
        "# Punto inicial para Newton\n",
        "p0_newton = 1\n",
        "\n",
        "# Puntos iniciales para la secante\n",
        "p0_secant = 5\n",
        "p1_secant = 0.5\n",
        "\n",
        "# Encontrar soluciones usando ambos métodos\n",
        "try:\n",
        "    solution_newton = newton_method7(f1, f_prime1, p0_newton)\n",
        "    print(f\"Solución usando el método de Newton-Raphson: {solution_newton:.7f}\")\n",
        "except ValueError as e:\n",
        "    print(f\"Error en el método de Newton-Raphson: {e}\")\n",
        "\n",
        "try:\n",
        "    solution_secant = secant_method7(f1, p0_secant, p1_secant)\n",
        "    print(f\"Solución usando el método de la secante: {solution_secant:.7f}\")\n",
        "except ValueError as e:\n",
        "    print(f\"Error en el método de la secante: {e}\")"
      ],
      "metadata": {
        "id": "Hli1CSorjAsX",
        "outputId": "973f649b-425f-4f79-cb04-680d68f24c0c",
        "colab": {
          "base_uri": "https://localhost:8080/"
        }
      },
      "execution_count": 14,
      "outputs": [
        {
          "output_type": "stream",
          "name": "stdout",
          "text": [
            "Error en el método de Newton-Raphson: Derivada demasiado pequeña, el método puede no converger\n",
            "Solución usando el método de la secante: 39103284603887055151821814509131937804250822014852503377531820519329078759794596270675661288495806851427741592300336609908348966199010068552161228824541988517713018880.0000000+226068697664446734068171826265548207856426799478833060021904542635997890055126872508029587829391603319113165435159059370271093569476996290052060656101084052712375451648.0000000j\n"
          ]
        }
      ]
    }
  ]
}