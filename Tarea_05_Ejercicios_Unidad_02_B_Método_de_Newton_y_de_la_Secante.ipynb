{
  "nbformat": 4,
  "nbformat_minor": 0,
  "metadata": {
    "colab": {
      "provenance": [],
      "authorship_tag": "ABX9TyOAO8T01qDPL/T4EwKsWSsg",
      "include_colab_link": true
    },
    "kernelspec": {
      "name": "python3",
      "display_name": "Python 3"
    },
    "language_info": {
      "name": "python"
    }
  },
  "cells": [
    {
      "cell_type": "markdown",
      "metadata": {
        "id": "view-in-github",
        "colab_type": "text"
      },
      "source": [
        "<a href=\"https://colab.research.google.com/github/andresit02/M-TODOS-NUM-RICOS---TAREA-5/blob/main/Tarea_05_Ejercicios_Unidad_02_B_M%C3%A9todo_de_Newton_y_de_la_Secante.ipynb\" target=\"_parent\"><img src=\"https://colab.research.google.com/assets/colab-badge.svg\" alt=\"Open In Colab\"/></a>"
      ]
    },
    {
      "cell_type": "markdown",
      "source": [
        "**ESCUELA POLITÉCNICA NACIONAL**"
      ],
      "metadata": {
        "id": "p_EuRCnUJ0s1"
      }
    },
    {
      "cell_type": "markdown",
      "source": [
        "**MÉTODOS NUMÉRICOS**\n"
      ],
      "metadata": {
        "id": "zljjbUf2LD9t"
      }
    },
    {
      "cell_type": "markdown",
      "source": [
        "**[Tarea 05] Ejercicios Unidad 02 B Método de Newton y de la Secante**\n"
      ],
      "metadata": {
        "id": "-ikc-n1CLNc3"
      }
    },
    {
      "cell_type": "code",
      "execution_count": 1,
      "metadata": {
        "colab": {
          "base_uri": "https://localhost:8080/",
          "height": 0
        },
        "id": "4wIfUWVXI4Vn",
        "outputId": "437e8c5c-8edf-4d7f-c1c1-737f0801297a"
      },
      "outputs": [
        {
          "output_type": "stream",
          "name": "stdout",
          "text": [
            "Método de Newton: p2 ≈ -0.8656841631760818\n",
            "Método de la Secante: p2 ≈ -1.2520764889092288\n",
            "Usando p0 = 0 en el método de Newton: p2 ≈ nan\n"
          ]
        },
        {
          "output_type": "stream",
          "name": "stderr",
          "text": [
            "<ipython-input-1-16f4b34d8da6>:14: RuntimeWarning: divide by zero encountered in scalar divide\n",
            "  p = p - f(p) / f_prime(p)\n",
            "<ipython-input-1-16f4b34d8da6>:5: RuntimeWarning: invalid value encountered in cos\n",
            "  return -x**3 - np.cos(x)\n",
            "<ipython-input-1-16f4b34d8da6>:8: RuntimeWarning: invalid value encountered in sin\n",
            "  return -3*x**2 + np.sin(x)\n"
          ]
        }
      ],
      "source": [
        "import numpy as np\n",
        "\n",
        "# Definir la función y su derivada\n",
        "def f(x):\n",
        "    return -x**3 - np.cos(x)\n",
        "\n",
        "def f_prime(x):\n",
        "    return -3*x**2 + np.sin(x)\n",
        "\n",
        "# Método de Newton\n",
        "def newton_method(p0, iterations=2):\n",
        "    p = p0\n",
        "    for _ in range(iterations):\n",
        "        p = p - f(p) / f_prime(p)\n",
        "    return p\n",
        "\n",
        "# Método de la Secante\n",
        "def secant_method(p0, p1, iterations=2):\n",
        "    for _ in range(iterations):\n",
        "        p2 = p1 - f(p1) * (p1 - p0) / (f(p1) - f(p0))\n",
        "        p0, p1 = p1, p2\n",
        "    return p2\n",
        "\n",
        "# Valores iniciales\n",
        "p0_newton = -1\n",
        "p0_secant = -1\n",
        "p1_secant = 0\n",
        "\n",
        "# Calcular p2 usando el método de Newton\n",
        "p2_newton = newton_method(p0_newton)\n",
        "print(f\"Método de Newton: p2 ≈ {p2_newton}\")\n",
        "\n",
        "# Calcular p2 usando el método de la Secante\n",
        "p2_secant = secant_method(p0_secant, p1_secant)\n",
        "print(f\"Método de la Secante: p2 ≈ {p2_secant}\")\n",
        "\n",
        "# Verificar si se puede usar p0 = 0 en el método de Newton\n",
        "try:\n",
        "    p0_newton_zero = 0\n",
        "    p2_newton_zero = newton_method(p0_newton_zero)\n",
        "    print(f\"Usando p0 = 0 en el método de Newton: p2 ≈ {p2_newton_zero}\")\n",
        "except ZeroDivisionError:\n",
        "    print(\"No se puede usar p0 = 0 en el método de Newton debido a división por cero.\")"
      ]
    }
  ]
}